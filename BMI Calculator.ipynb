{
 "cells": [
  {
   "cell_type": "markdown",
   "metadata": {},
   "source": [
    "Creating a Web-Application using PyWebIO"
   ]
  },
  {
   "cell_type": "code",
   "execution_count": 1,
   "metadata": {},
   "outputs": [
    {
     "name": "stdout",
     "output_type": "stream",
     "text": [
      "Requirement already satisfied: PyWebIO in c:\\users\\dell\\appdata\\local\\programs\\python\\python311\\lib\\site-packages (1.8.3)\n",
      "Requirement already satisfied: tornado>=5.0 in c:\\users\\dell\\appdata\\local\\programs\\python\\python311\\lib\\site-packages (from PyWebIO) (6.4)\n",
      "Requirement already satisfied: user-agents in c:\\users\\dell\\appdata\\local\\programs\\python\\python311\\lib\\site-packages (from PyWebIO) (2.2.0)\n",
      "Requirement already satisfied: ua-parser>=0.10.0 in c:\\users\\dell\\appdata\\local\\programs\\python\\python311\\lib\\site-packages (from user-agents->PyWebIO) (0.18.0)\n"
     ]
    }
   ],
   "source": [
    "!pip install PyWebIO"
   ]
  },
  {
   "cell_type": "code",
   "execution_count": 1,
   "metadata": {},
   "outputs": [],
   "source": [
    "#Simple-Calculator\n",
    "from pywebio.input import *\n",
    "from pywebio.output import *"
   ]
  },
  {
   "cell_type": "code",
   "execution_count": 2,
   "metadata": {},
   "outputs": [],
   "source": [
    "def bmicalculator():\n",
    "    height=input(\"Please enter the height in cm\",type=FLOAT)\n",
    "    weight=input(\"Please enter the weight in Kg\",type=FLOAT)\n",
    "    \n",
    "    bmi=weight/(height/100)**2\n",
    "    \n",
    "    bmi_output=[(16, 'Severely underweight'), (18.5, 'Underweight'),\n",
    "                  (25, 'Normal'), (30, 'Overweight'),\n",
    "                  (35, 'Moderately obese'), (float('inf'), 'Severely obese')]\n",
    "    \n",
    "    for tuple1,tuple2 in bmi_output:\n",
    "        if bmi<=tuple1:\n",
    "            put_text('Your BMI is :%.1f and the person is :%s'%(bmi,tuple2))\n",
    "            break\n",
    "        \n",
    "    \n",
    "if __name__=='__main__':\n",
    "    bmicalculator()"
   ]
  },
  {
   "cell_type": "code",
   "execution_count": null,
   "metadata": {},
   "outputs": [],
   "source": []
  }
 ],
 "metadata": {
  "kernelspec": {
   "display_name": "Python 3",
   "language": "python",
   "name": "python3"
  },
  "language_info": {
   "codemirror_mode": {
    "name": "ipython",
    "version": 3
   },
   "file_extension": ".py",
   "mimetype": "text/x-python",
   "name": "python",
   "nbconvert_exporter": "python",
   "pygments_lexer": "ipython3",
   "version": "3.11.5"
  }
 },
 "nbformat": 4,
 "nbformat_minor": 2
}
